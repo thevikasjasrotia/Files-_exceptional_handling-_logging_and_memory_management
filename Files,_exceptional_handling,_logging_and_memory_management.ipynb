{
  "nbformat": 4,
  "nbformat_minor": 0,
  "metadata": {
    "colab": {
      "provenance": []
    },
    "kernelspec": {
      "name": "python3",
      "display_name": "Python 3"
    },
    "language_info": {
      "name": "python"
    }
  },
  "cells": [
    {
      "cell_type": "code",
      "execution_count": null,
      "metadata": {
        "id": "kd0-YLlU87M5"
      },
      "outputs": [],
      "source": [
        "What is the difference between interpreted and compiled languages?\n",
        "\n",
        "Interpreted languages: Code is executed line by line by an interpreter. Examples: Python, JavaScript.\n",
        "Compiled languages: Code is translated into machine code by a compiler before execution. Examples: C, C++."
      ]
    },
    {
      "cell_type": "code",
      "source": [
        " What is exception handling in Python?\n",
        "\n",
        "Mechanism to manage runtime errors gracefully using try, except, else, and finally blocks."
      ],
      "metadata": {
        "id": "QpHL3hio88fi"
      },
      "execution_count": null,
      "outputs": []
    },
    {
      "cell_type": "code",
      "source": [
        " What is the purpose of the finally block in exception handling?\n",
        "\n",
        "To execute code regardless of whether an exception occurred or not."
      ],
      "metadata": {
        "id": "orOHuF0f88iK"
      },
      "execution_count": null,
      "outputs": []
    },
    {
      "cell_type": "code",
      "source": [
        "What is logging in Python?\n",
        "\n",
        "A way to track events during program execution using the logging module."
      ],
      "metadata": {
        "id": "RqWqMMw988kO"
      },
      "execution_count": null,
      "outputs": []
    },
    {
      "cell_type": "code",
      "source": [
        "What is the significance of the __del__ method in Python?\n",
        "\n",
        "Acts as a destructor to clean up resources when an object is deleted."
      ],
      "metadata": {
        "id": "iIi1e2r688mE"
      },
      "execution_count": null,
      "outputs": []
    },
    {
      "cell_type": "code",
      "source": [
        "What is the difference between import and from ... import in Python?\n",
        "\n",
        "import: Imports the entire module.\n",
        "from ... import: Imports specific attributes or functions from a module."
      ],
      "metadata": {
        "id": "EUb0pA5F88ow"
      },
      "execution_count": null,
      "outputs": []
    },
    {
      "cell_type": "code",
      "source": [
        "How can you handle multiple exceptions in Python?\n",
        "\n",
        "Use a single except block with a tuple of exceptions:\n",
        "\n",
        "try:\n",
        "    pass\n",
        "except (Exception1, Exception2) as e:\n",
        "    pass"
      ],
      "metadata": {
        "id": "AoMrRAxR88vI"
      },
      "execution_count": null,
      "outputs": []
    },
    {
      "cell_type": "code",
      "source": [
        " What is the purpose of the with statement when handling files in Python?\n",
        "\n",
        "Ensures proper resource management and automatically closes the file after operations.\n"
      ],
      "metadata": {
        "id": "yTtcXvsv88xM"
      },
      "execution_count": null,
      "outputs": []
    },
    {
      "cell_type": "code",
      "source": [
        " What is the difference between multithreading and multiprocessing?\n",
        "\n",
        "Multithreading: Multiple threads in a single process, sharing memory.\n",
        "Multiprocessing: Multiple processes with separate memory spaces."
      ],
      "metadata": {
        "id": "tOG2_C2U88zG"
      },
      "execution_count": null,
      "outputs": []
    },
    {
      "cell_type": "code",
      "source": [
        "What are the advantages of using logging in a program?\n",
        "\n",
        "Debugging support\n",
        "Easy error tracking\n",
        "Helps monitor program behavior\n",
        "Flexible configuration"
      ],
      "metadata": {
        "id": "oV5X34p_880w"
      },
      "execution_count": null,
      "outputs": []
    },
    {
      "cell_type": "code",
      "source": [
        " What is memory management in Python?\n",
        "\n",
        "Automatic allocation and deallocation of memory using a private heap and garbage collection."
      ],
      "metadata": {
        "id": "MnwuKfhv882t"
      },
      "execution_count": null,
      "outputs": []
    },
    {
      "cell_type": "code",
      "source": [
        ". What are the basic steps involved in exception handling in Python?\n",
        "\n",
        "Place code in a try block.\n",
        "Handle exceptions in except blocks.\n",
        "Use else for code if no exceptions occur.\n",
        "Use finally for cleanup code."
      ],
      "metadata": {
        "id": "r0iXyc-s884o"
      },
      "execution_count": null,
      "outputs": []
    },
    {
      "cell_type": "code",
      "source": [
        " Why is memory management important in Python?\n",
        "\n",
        "Prevents memory leaks.\n",
        "Ensures efficient resource usage."
      ],
      "metadata": {
        "id": "tMgzVEXc886T"
      },
      "execution_count": null,
      "outputs": []
    },
    {
      "cell_type": "code",
      "source": [
        " What is the role of try and except in exception handling?\n",
        "\n",
        "try: Contains code that might raise exceptions.\n",
        "except: Handles specific exceptions that occur.\n"
      ],
      "metadata": {
        "id": "dj_E1fmC-Edv"
      },
      "execution_count": null,
      "outputs": []
    },
    {
      "cell_type": "code",
      "source": [
        " How does Python's garbage collection system work?\n",
        "\n",
        "Automatically deallocates unused objects via reference counting and cyclic garbage collection."
      ],
      "metadata": {
        "id": "UOhJk7ZT-EgJ"
      },
      "execution_count": null,
      "outputs": []
    },
    {
      "cell_type": "code",
      "source": [
        "What is the purpose of the else block in exception handling?\n",
        "\n",
        "Executes code if no exceptions are raised in the try block.\n"
      ],
      "metadata": {
        "id": "5l1zbJXD-Eic"
      },
      "execution_count": null,
      "outputs": []
    },
    {
      "cell_type": "code",
      "source": [
        "What are the common logging levels in Python?\n",
        "\n",
        "DEBUG, INFO, WARNING, ERROR, CRITICAL."
      ],
      "metadata": {
        "id": "_VTWrgOd-Elj"
      },
      "execution_count": null,
      "outputs": []
    },
    {
      "cell_type": "code",
      "source": [
        "What is the difference between os.fork() and multiprocessing in Python?\n",
        "\n",
        "os.fork(): Creates a child process by duplicating the current process (Unix systems only).\n",
        "multiprocessing: High-level module for creating processes portable across platforms."
      ],
      "metadata": {
        "id": "PjH5xZ-W-Eqk"
      },
      "execution_count": null,
      "outputs": []
    },
    {
      "cell_type": "code",
      "source": [
        "What is the importance of closing a file in Python?\n",
        "\n",
        "Frees system resources and ensures data is saved properly."
      ],
      "metadata": {
        "id": "65TYXLxn887_"
      },
      "execution_count": null,
      "outputs": []
    },
    {
      "cell_type": "code",
      "source": [
        " What is the difference between file.read() and file.readline() in Python?\n",
        "\n",
        "file.read(): Reads the entire file.\n",
        "file.readline(): Reads one line at a time.\n"
      ],
      "metadata": {
        "id": "o1rRWPcO88-B"
      },
      "execution_count": null,
      "outputs": []
    },
    {
      "cell_type": "code",
      "source": [
        " What is the logging module in Python used for?\n",
        "\n",
        "Recording events, errors, and warnings during program execution.\n"
      ],
      "metadata": {
        "id": "j5kj4ngm-Z8m"
      },
      "execution_count": null,
      "outputs": []
    },
    {
      "cell_type": "code",
      "source": [
        "What is the os module in Python used for in file handling?\n",
        "\n",
        "Provides functions for interacting with the operating system, e.g., file creation, deletion, and navigation."
      ],
      "metadata": {
        "id": "yTVnEJue-Z_S"
      },
      "execution_count": null,
      "outputs": []
    },
    {
      "cell_type": "code",
      "source": [
        "What are the challenges associated with memory management in Python?\n",
        "\n",
        "Handling circular references.\n",
        "Performance issues with garbage collection in memory-intensive applications.\n"
      ],
      "metadata": {
        "id": "0VgKLsZq-aB4"
      },
      "execution_count": null,
      "outputs": []
    },
    {
      "cell_type": "code",
      "source": [
        "How do you raise an exception manually in Python?\n",
        "\n",
        "raise Exception(\"Custom error message\")"
      ],
      "metadata": {
        "id": "nI2oBWT6-aD_"
      },
      "execution_count": null,
      "outputs": []
    },
    {
      "cell_type": "code",
      "source": [
        " Why is it important to use multithreading in certain applications?\n",
        "\n",
        "Improves performance in I/O-bound tasks by enabling concurrent execution."
      ],
      "metadata": {
        "id": "5HRrZFOG-aGF"
      },
      "execution_count": null,
      "outputs": []
    },
    {
      "cell_type": "code",
      "source": [
        "# How can you open a file for writing in Python and write a string to it?\n",
        "\n",
        "with open(\"file.txt\", \"w\") as file:\n",
        "    file.write(\"This is a string.\")"
      ],
      "metadata": {
        "id": "mFm9L1dS-2Zb"
      },
      "execution_count": 1,
      "outputs": []
    },
    {
      "cell_type": "code",
      "source": [
        "# Write a Python program to read the contents of a file and print each line.\n",
        "\n",
        "with open(\"file.txt\", \"r\") as file:\n",
        "    for line in file:\n",
        "        print(line.strip())"
      ],
      "metadata": {
        "colab": {
          "base_uri": "https://localhost:8080/"
        },
        "id": "V3c_4lok-484",
        "outputId": "ad16e189-99f5-44e5-c0a1-54b65d794341"
      },
      "execution_count": 2,
      "outputs": [
        {
          "output_type": "stream",
          "name": "stdout",
          "text": [
            "This is a string.\n"
          ]
        }
      ]
    },
    {
      "cell_type": "code",
      "source": [
        "# How would you handle a case where the file doesn't exist while trying to open it for reading?\n",
        "\n",
        "try:\n",
        "    with open(\"nonexistent.txt\", \"r\") as file:\n",
        "        content = file.read()\n",
        "except FileNotFoundError:\n",
        "    print(\"The file does not exist.\")"
      ],
      "metadata": {
        "colab": {
          "base_uri": "https://localhost:8080/"
        },
        "id": "ib_EfJua-5CU",
        "outputId": "5956c866-9a34-4880-feac-497a359b566e"
      },
      "execution_count": 3,
      "outputs": [
        {
          "output_type": "stream",
          "name": "stdout",
          "text": [
            "The file does not exist.\n"
          ]
        }
      ]
    },
    {
      "cell_type": "code",
      "source": [
        "#How would you catch and handle a division by zero error in Python?\n",
        "\n",
        "try:\n",
        "    result = 10 / 0\n",
        "except ZeroDivisionError:\n",
        "    print(\"Division by zero is not allowed.\")"
      ],
      "metadata": {
        "colab": {
          "base_uri": "https://localhost:8080/"
        },
        "id": "8Ds3P4S1-5HE",
        "outputId": "96ef1019-41fc-4552-fc0e-e3f1d39bad8a"
      },
      "execution_count": 5,
      "outputs": [
        {
          "output_type": "stream",
          "name": "stdout",
          "text": [
            "Division by zero is not allowed.\n"
          ]
        }
      ]
    },
    {
      "cell_type": "code",
      "source": [
        "#Write a Python program that logs an error message to a log file when a division by zero exception occurs.\n",
        "\n",
        "import logging\n",
        "\n",
        "logging.basicConfig(filename=\"error.log\", level=logging.ERROR)\n",
        "try:\n",
        "    result = 10 / 0\n",
        "except ZeroDivisionError as e:\n",
        "    logging.error(\"Division by zero error: %s\", e)"
      ],
      "metadata": {
        "colab": {
          "base_uri": "https://localhost:8080/"
        },
        "id": "4Cn2V8ih-5LN",
        "outputId": "5ac9ee8f-4838-47ea-9494-2843453dc30e"
      },
      "execution_count": 6,
      "outputs": [
        {
          "output_type": "stream",
          "name": "stderr",
          "text": [
            "ERROR:root:Division by zero error: division by zero\n"
          ]
        }
      ]
    },
    {
      "cell_type": "code",
      "source": [
        "#How do you log information at different levels (INFO, ERROR, WARNING) in Python using the logging module?\n",
        "\n",
        "import logging\n",
        "\n",
        "logging.basicConfig(level=logging.DEBUG)\n",
        "logging.info(\"This is an INFO message\")\n",
        "logging.warning(\"This is a WARNING message\")\n",
        "logging.error(\"This is an ERROR message\")"
      ],
      "metadata": {
        "colab": {
          "base_uri": "https://localhost:8080/"
        },
        "id": "ByzNOuun-5QJ",
        "outputId": "fd610cdc-d2fc-45f3-d854-5cf081b85232"
      },
      "execution_count": 7,
      "outputs": [
        {
          "output_type": "stream",
          "name": "stderr",
          "text": [
            "WARNING:root:This is a WARNING message\n",
            "ERROR:root:This is an ERROR message\n"
          ]
        }
      ]
    },
    {
      "cell_type": "code",
      "source": [
        "# Write a program to handle a file opening error using exception handling.\n",
        "\n",
        "try:\n",
        "    with open(\"nonexistent.txt\", \"r\") as file:\n",
        "        content = file.read()\n",
        "except IOError:\n",
        "    print(\"An error occurred while opening the file.\")"
      ],
      "metadata": {
        "colab": {
          "base_uri": "https://localhost:8080/"
        },
        "id": "L5eea-6s-5T7",
        "outputId": "bdc2dd53-8652-46a4-f16e-e40d07dc5646"
      },
      "execution_count": 8,
      "outputs": [
        {
          "output_type": "stream",
          "name": "stdout",
          "text": [
            "An error occurred while opening the file.\n"
          ]
        }
      ]
    },
    {
      "cell_type": "code",
      "source": [
        "# How can you read a file line by line and store its content in a list in Python?\n",
        "\n",
        "with open(\"file.txt\", \"r\") as file:\n",
        "    lines = file.readlines()"
      ],
      "metadata": {
        "id": "Zuy1h1JS-5Wr"
      },
      "execution_count": 9,
      "outputs": []
    },
    {
      "cell_type": "code",
      "source": [
        "#How can you append data to an existing file in Python?\n",
        "\n",
        "with open(\"file.txt\", \"a\") as file:\n",
        "    file.write(\"This is an appended line.\\n\")"
      ],
      "metadata": {
        "id": "2qCW8aGQ-5ZM"
      },
      "execution_count": 10,
      "outputs": []
    },
    {
      "cell_type": "code",
      "source": [
        "# Write a Python program that uses a try-except block to handle an error when attempting to access a dictionary key that doesn't exist.\n",
        "\n",
        "my_dict = {\"key1\": \"value1\"}\n",
        "try:\n",
        "    print(my_dict[\"key2\"])\n",
        "except KeyError:\n",
        "    print(\"Key not found in the dictionary.\")"
      ],
      "metadata": {
        "colab": {
          "base_uri": "https://localhost:8080/"
        },
        "id": "ccBjm6uI-5c0",
        "outputId": "a39b5bec-4293-4da4-b65f-39d8b67246ea"
      },
      "execution_count": 11,
      "outputs": [
        {
          "output_type": "stream",
          "name": "stdout",
          "text": [
            "Key not found in the dictionary.\n"
          ]
        }
      ]
    },
    {
      "cell_type": "code",
      "source": [
        "# Write a program that demonstrates using multiple except blocks to handle different types of exceptions.\n",
        "\n",
        "try:\n",
        "    num = int(input(\"Enter a number: \"))\n",
        "    result = 10 / num\n",
        "except ValueError:\n",
        "    print(\"Please enter a valid number.\")\n",
        "except ZeroDivisionError:\n",
        "    print(\"Division by zero is not allowed.\")"
      ],
      "metadata": {
        "colab": {
          "base_uri": "https://localhost:8080/"
        },
        "id": "aZXPuOGj-5jj",
        "outputId": "42e68b48-02b3-4d91-8190-0600145f42bd"
      },
      "execution_count": 12,
      "outputs": [
        {
          "name": "stdout",
          "output_type": "stream",
          "text": [
            "Enter a number: 3\n"
          ]
        }
      ]
    },
    {
      "cell_type": "code",
      "source": [
        "# How would you check if a file exists before attempting to read it in Python?\n",
        "\n",
        "import os\n",
        "\n",
        "if os.path.exists(\"file.txt\"):\n",
        "    with open(\"file.txt\", \"r\") as file:\n",
        "        content = file.read()\n",
        "else:\n",
        "    print(\"The file does not exist.\")"
      ],
      "metadata": {
        "id": "Kqt4odO6-5n1"
      },
      "execution_count": 13,
      "outputs": []
    },
    {
      "cell_type": "code",
      "source": [
        "# Write a program that uses the logging module to log both informational and error messages.\n",
        "\n",
        "import logging\n",
        "\n",
        "logging.basicConfig(level=logging.INFO)\n",
        "logging.info(\"This is an informational message.\")\n",
        "logging.error(\"This is an error message.\")"
      ],
      "metadata": {
        "colab": {
          "base_uri": "https://localhost:8080/"
        },
        "id": "U85Vh96f-5sE",
        "outputId": "2a6fc348-603d-4f76-afad-b3ec70c3dd81"
      },
      "execution_count": 14,
      "outputs": [
        {
          "output_type": "stream",
          "name": "stderr",
          "text": [
            "ERROR:root:This is an error message.\n"
          ]
        }
      ]
    },
    {
      "cell_type": "code",
      "source": [
        "#Write a Python program that prints the content of a file and handles the case when the file is empty.\n",
        "\n",
        "with open(\"file.txt\", \"r\") as file:\n",
        "    content = file.read()\n",
        "    if not content:\n",
        "        print(\"The file is empty.\")\n",
        "    else:\n",
        "        print(content)"
      ],
      "metadata": {
        "colab": {
          "base_uri": "https://localhost:8080/"
        },
        "id": "cFP95xhA-5v7",
        "outputId": "ed493e9a-b2b3-460a-8399-4e286758187a"
      },
      "execution_count": 15,
      "outputs": [
        {
          "output_type": "stream",
          "name": "stdout",
          "text": [
            "This is a string.This is an appended line.\n",
            "\n"
          ]
        }
      ]
    },
    {
      "cell_type": "code",
      "source": [
        "Demonstrate how to use memory profiling to check the memory usage of a small program.\n",
        "\n",
        "from memory_profiler import profile\n",
        "\n",
        "@profile\n",
        "def example():\n",
        "    x = [i for i in range(10000)]\n",
        "    return sum(x)\n",
        "\n",
        "example()"
      ],
      "metadata": {
        "id": "d2rTwQ2i-50I"
      },
      "execution_count": 18,
      "outputs": []
    },
    {
      "cell_type": "code",
      "source": [
        "#Write a Python program to create and write a list of numbers to a file, one number per line.\n",
        "\n",
        "numbers = [1, 2, 3, 4, 5]\n",
        "with open(\"numbers.txt\", \"w\") as file:\n",
        "    for number in numbers:\n",
        "        file.write(f\"{number}\\n\")"
      ],
      "metadata": {
        "id": "pt7Hls4k-53I"
      },
      "execution_count": 17,
      "outputs": []
    },
    {
      "cell_type": "code",
      "source": [
        "#How would you implement a basic logging setup that logs to a file with rotation after 1MB?\n",
        "\n",
        "import logging\n",
        "from logging.handlers import RotatingFileHandler\n",
        "\n",
        "handler = RotatingFileHandler(\"app.log\", maxBytes=1_000_000, backupCount=3)\n",
        "logging.basicConfig(handlers=[handler], level=logging.INFO)\n",
        "logging.info(\"This is a log message.\")"
      ],
      "metadata": {
        "id": "OxfJHPbf-56T"
      },
      "execution_count": 19,
      "outputs": []
    },
    {
      "cell_type": "code",
      "source": [
        "#Write a program that handles both IndexError and KeyError using a try-except block.\n",
        "\n",
        "try:\n",
        "    my_list = [1, 2, 3]\n",
        "    print(my_list[5])\n",
        "    my_dict = {\"key\": \"value\"}\n",
        "    print(my_dict[\"missing_key\"])\n",
        "except IndexError:\n",
        "    print(\"Index out of range.\")\n",
        "except KeyError:\n",
        "    print(\"Key not found.\")"
      ],
      "metadata": {
        "colab": {
          "base_uri": "https://localhost:8080/"
        },
        "id": "SdIpcvOE-581",
        "outputId": "3eedc7cc-0ec5-4f17-9512-c0d3b0952605"
      },
      "execution_count": 20,
      "outputs": [
        {
          "output_type": "stream",
          "name": "stdout",
          "text": [
            "Index out of range.\n"
          ]
        }
      ]
    },
    {
      "cell_type": "code",
      "source": [
        "#How would you open a file and read its contents using a context manager in Python?\n",
        "\n",
        "with open(\"file.txt\", \"r\") as file:\n",
        "    content = file.read()"
      ],
      "metadata": {
        "id": "6fdz1ZZT-5_N"
      },
      "execution_count": 21,
      "outputs": []
    },
    {
      "cell_type": "code",
      "source": [
        "#Write a Python program that reads a file and prints the number of occurrences of a specific word.\n",
        "\n",
        "word = \"Python\"\n",
        "with open(\"file.txt\", \"r\") as file:\n",
        "    content = file.read()\n",
        "    print(content.count(word))\n"
      ],
      "metadata": {
        "colab": {
          "base_uri": "https://localhost:8080/"
        },
        "id": "qZs5CDHA-6Bx",
        "outputId": "1f0c6ef4-645e-46cf-cca2-fb76fba79738"
      },
      "execution_count": 22,
      "outputs": [
        {
          "output_type": "stream",
          "name": "stdout",
          "text": [
            "0\n"
          ]
        }
      ]
    },
    {
      "cell_type": "code",
      "source": [
        "#How can you check if a file is empty before attempting to read its contents?\n",
        "\n",
        "import os\n",
        "\n",
        "if os.stat(\"file.txt\").st_size == 0:\n",
        "    print(\"The file is empty.\")\n",
        "else:\n",
        "    with open(\"file.txt\", \"r\") as file:\n",
        "        print(file.read())"
      ],
      "metadata": {
        "colab": {
          "base_uri": "https://localhost:8080/"
        },
        "id": "FSSaW0AL-6FA",
        "outputId": "08fe695d-ba0f-4a8a-89c1-29ef67be3f7b"
      },
      "execution_count": 23,
      "outputs": [
        {
          "output_type": "stream",
          "name": "stdout",
          "text": [
            "This is a string.This is an appended line.\n",
            "\n"
          ]
        }
      ]
    },
    {
      "cell_type": "code",
      "source": [
        "#Write a Python program that writes to a log file when an error occurs during file handling.\n",
        "\n",
        "import logging\n",
        "\n",
        "logging.basicConfig(filename=\"error.log\", level=logging.ERROR)\n",
        "\n",
        "try:\n",
        "    with open(\"nonexistent.txt\", \"r\") as file:\n",
        "        content = file.read()\n",
        "except Exception as e:\n",
        "    logging.error(\"An error occurred: %s\", e)"
      ],
      "metadata": {
        "colab": {
          "base_uri": "https://localhost:8080/"
        },
        "id": "BuxiQOLK-6Ho",
        "outputId": "e37ab9af-87c7-4df9-e5cd-23d1763410ca"
      },
      "execution_count": 24,
      "outputs": [
        {
          "output_type": "stream",
          "name": "stderr",
          "text": [
            "ERROR:root:An error occurred: [Errno 2] No such file or directory: 'nonexistent.txt'\n"
          ]
        }
      ]
    },
    {
      "cell_type": "code",
      "source": [],
      "metadata": {
        "id": "1QGeVjKC-6ed"
      },
      "execution_count": null,
      "outputs": []
    },
    {
      "cell_type": "code",
      "source": [],
      "metadata": {
        "id": "RKbTjia288_n"
      },
      "execution_count": null,
      "outputs": []
    },
    {
      "cell_type": "code",
      "source": [],
      "metadata": {
        "id": "8FAtTF7w89Bo"
      },
      "execution_count": null,
      "outputs": []
    }
  ]
}